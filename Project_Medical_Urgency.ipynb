{
 "cells": [
  {
   "cell_type": "code",
   "execution_count": 54,
   "id": "86dbfb1a-7ddf-4db9-8339-7182b1015947",
   "metadata": {},
   "outputs": [],
   "source": [
    "import numpy as np\n",
    "import pandas as pd\n",
    "import pandas as pd\n",
    "import numpy as np\n",
    "import matplotlib\n",
    "import matplotlib.pyplot as plt\n",
    "%matplotlib inline\n",
    "from sklearn.model_selection import train_test_split\n",
    "from sklearn.preprocessing import StandardScaler\n",
    "from itertools import combinations_with_replacement\n",
    "import math\n",
    "import torch"
   ]
  },
  {
   "cell_type": "code",
   "execution_count": 79,
   "id": "315e2163-dccb-49c1-8add-ad6960b04014",
   "metadata": {},
   "outputs": [],
   "source": [
    "# Number of samples\n",
    "n_samples = 1000\n",
    "n_features = 10\n",
    "output_size = 3\n",
    "hidden_neurons_l1 = 40\n",
    "hidden_neurons_l2 =25"
   ]
  },
  {
   "cell_type": "code",
   "execution_count": 3,
   "id": "f765f3c7-7684-4165-91a1-30845aa68dd2",
   "metadata": {},
   "outputs": [
    {
     "name": "stdout",
     "output_type": "stream",
     "text": [
      "Dataset generated and saved as triage_dataset.csv\n"
     ]
    }
   ],
   "source": [
    "#data generation\n",
    "\n",
    "np.random.seed(52)\n",
    "\n",
    "# Features\n",
    "age = np.random.randint(10, 90, n_samples)\n",
    "temp = np.random.normal(98.6, 1.5, n_samples)  # normal human temp\n",
    "hr = np.random.randint(60, 140, n_samples)  # heart rate\n",
    "bp_sys = np.random.randint(90, 180, n_samples)  # systolic BP\n",
    "bp_dia = np.random.randint(60, 120, n_samples)  # diastolic BP\n",
    "resp_rate = np.random.randint(12, 30, n_samples)  # breaths per min\n",
    "chest_pain = np.random.randint(0, 2, n_samples)\n",
    "bleeding = np.random.randint(0, 2, n_samples)\n",
    "fever = (temp > 100.4).astype(int)\n",
    "vomiting = np.random.randint(0, 2, n_samples)\n",
    "\n",
    "# Label logic (basic rules for triage)\n",
    "urgency = []\n",
    "for i in range(n_samples):\n",
    "    score = 0\n",
    "    if hr[i] > 120: score += 1\n",
    "    if temp[i] > 101: score += 1\n",
    "    if chest_pain[i] == 1: score += 1\n",
    "    if bleeding[i] == 1: score += 1\n",
    "    if bp_sys[i] > 160 or bp_sys[i] < 100: score += 1\n",
    "    if resp_rate[i] > 24 or resp_rate[i] < 14: score += 1\n",
    "    if score >= 4:\n",
    "        urgency.append(2)  # High\n",
    "    elif score >= 2:\n",
    "        urgency.append(1)  # Medium\n",
    "    else:\n",
    "        urgency.append(0)  # Low\n",
    "\n",
    "# Combine into DataFrame\n",
    "data = pd.DataFrame({\n",
    "    'age': age,\n",
    "    'temp': temp,\n",
    "    'hr': hr,\n",
    "    'bp_sys': bp_sys,\n",
    "    'bp_dia': bp_dia,\n",
    "    'resp_rate': resp_rate,\n",
    "    'chest_pain': chest_pain,\n",
    "    'bleeding': bleeding,\n",
    "    'fever': fever,\n",
    "    'vomiting': vomiting,\n",
    "    'urgency_level': urgency\n",
    "})\n",
    "\n",
    "data.to_csv(\"triage_dataset.csv\", index=False)\n",
    "print(\"Dataset generated and saved as triage_dataset.csv\")"
   ]
  },
  {
   "cell_type": "code",
   "execution_count": 56,
   "id": "fee4e8ed-18fd-4ac8-a5d2-7d667dad5c59",
   "metadata": {},
   "outputs": [
    {
     "name": "stdout",
     "output_type": "stream",
     "text": [
      "x  (1000, 10)\n",
      "x_train  (800, 10)\n",
      "x_test  (200, 10)\n"
     ]
    }
   ],
   "source": [
    "#data reading and cleaning\n",
    "\n",
    "df = pd.read_csv(\"triage_dataset.csv\")\n",
    "\n",
    "X = df.drop(\"urgency_level\",axis=1).values\n",
    "Y = df[\"urgency_level\"].values\n",
    "\n",
    "X_train, X_test, Y_train, Y_test = train_test_split(X, Y, test_size=0.2, random_state=42, stratify=Y)\n",
    "Y_train = torch.tensor(Y_train, dtype=torch.long)\n",
    "Y_test = torch.tensor(Y_test, dtype=torch.long)\n",
    "\n",
    "scaler = StandardScaler()\n",
    "X_train_scaled = torch.tensor(scaler.fit_transform(X_train))\n",
    "X_test_scaled = torch.tensor(scaler.transform(X_test))\n",
    "\n",
    "#degree=2\n",
    "\n",
    "def one_hot_encode(labels,states=3):\n",
    "    return np.eye(states)[labels]\n",
    "\n",
    "#FINAL OUTPUT\n",
    "print(\"x \",X.shape)\n",
    "print(\"x_train \",X_train.shape)\n",
    "print(\"x_test \",X_test.shape)"
   ]
  },
  {
   "cell_type": "code",
   "execution_count": 57,
   "id": "19ced4e1-c067-4fbd-85c6-245e9bc7c02d",
   "metadata": {},
   "outputs": [
    {
     "data": {
      "image/png": "[encoded data removed]",
      "text/plain": [
       "<Figure size 640x480 with 1 Axes>"
      ]
     },
     "metadata": {},
     "output_type": "display_data"
    }
   ],
   "source": [
    "#visulaizing data\n",
    "plt.plot(X_train_scaled,Y_train,'r.')\n",
    "plt.show()"
   ]
  },
  {
   "cell_type": "code",
   "execution_count": 58,
   "id": "d2a57cb5-14e3-4197-8687-6e75a6abeb54",
   "metadata": {},
   "outputs": [],
   "source": [
    "#predictions\n",
    "\n",
    "def predictor(X):\n",
    "    return torch.softmax(X@theta,dim=1)"
   ]
  },
  {
   "cell_type": "code",
   "execution_count": 71,
   "id": "81392c9e-0b13-45e8-a3f4-8cc1051984da",
   "metadata": {},
   "outputs": [],
   "source": [
    "def cross_entropy(y,y_pred,lamda):\n",
    "    return (torch.mean(-torch.log(y_pred[range(len(y)),y])) + (lamda*(torch.mean(theta**2))) )"
   ]
  },
  {
   "cell_type": "code",
   "execution_count": 72,
   "id": "2be07444-a4a1-4fbb-a680-8e58c0c9d7d4",
   "metadata": {},
   "outputs": [],
   "source": [
    "def forward_pass(x_train_scaled,t1,b1,t2,b2,t3,b3):\n",
    "    a = x_train_scaled @ t1 + b1\n",
    "    b = torch.tanh(a)\n",
    "    c = b @ t2 +  b2\n",
    "    d = torch.relu(c)\n",
    "    e = d @ t3 + b3\n",
    "    return torch.softmax(e,dim=1)"
   ]
  },
  {
   "cell_type": "code",
   "execution_count": 80,
   "id": "ad5ece4f-2b85-4420-9789-08943c0d8455",
   "metadata": {},
   "outputs": [],
   "source": [
    "#loss function for training dataset (adding l2 regulariztaion penality in loss)\n",
    "\n",
    "def loss_calc(y,y_pred,lamda,t1,t2,t3):\n",
    "    return ((torch.mean(-torch.log(y_pred[range(len(y)),y]))) + lamda*(torch.mean(t1**2)+torch.mean(t2**2)+torch.mean(t3**2)))"
   ]
  },
  {
   "cell_type": "code",
   "execution_count": 81,
   "id": "a62341de-bb36-458b-aa4c-d631e6784ec4",
   "metadata": {},
   "outputs": [],
   "source": [
    "#loss function for testing dataset\n",
    "\n",
    "def test_loss_calc(y,y_pred):\n",
    "    return ((torch.mean(-torch.log(y_pred[range(len(y)),y]))) )"
   ]
  },
  {
   "cell_type": "code",
   "execution_count": 91,
   "id": "112691d7-7d2c-47c2-aa5b-bbdbb3e82647",
   "metadata": {},
   "outputs": [],
   "source": [
    "#randomly initializing hyper-parameters\n",
    "\n",
    "np.random.seed(42)\n",
    "n = 20000\n",
    "lamda = torch.linspace(1.0, 3.0, steps=40)  # [0.5, 1.0, 1.5, 2.0, 2.5, 3.0]\n",
    "step_size = 0.7\n",
    "train_loss_list=[]\n",
    "test_loss_list=[]"
   ]
  },
  {
   "cell_type": "code",
   "execution_count": 92,
   "id": "803d53a5-92d4-4441-913c-eff89069df55",
   "metadata": {},
   "outputs": [],
   "source": [
    "#scaling data (to be all data on one same scale)\n",
    "\n",
    "X_train_scaled = X_train_scaled.float()\n",
    "X_test_scaled = X_test_scaled.float()"
   ]
  },
  {
   "cell_type": "code",
   "execution_count": null,
   "id": "5e66819d-1675-4465-aef6-395d46dc2581",
   "metadata": {},
   "outputs": [
    {
     "name": "stdout",
     "output_type": "stream",
     "text": [
      "0    lamda:  tensor(1.)          Train loss: 0.19998101890087128          Test loss: 0.48859935998916626\n",
      "0 Train Accuracy: 0.9987499713897705\n",
      "0 Test Accuracy: 0.8550000190734863\n",
      "\n"
     ]
    }
   ],
   "source": [
    "#main loop for \n",
    "\n",
    "for j in range(40):\n",
    "    theta1 = torch.randn(n_features,hidden_neurons_l1,requires_grad=True)\n",
    "    theta2 = torch.randn(hidden_neurons_l1,hidden_neurons_l2,requires_grad=True)\n",
    "    theta3 = torch.randn(hidden_neurons_l2,hidden_neurons_l3,requires_grad=True)\n",
    "    bias1 = torch.randn(hidden_neurons_l1,requires_grad=True)\n",
    "    bias2 = torch.randn(hidden_neurons_l2,requires_grad=True)\n",
    "    bias3 = torch.randn(hidden_neurons_l3,requires_grad=True)\n",
    "    for i in range(n+1):\n",
    "        y_pred = forward_pass(X_train_scaled,theta1,bias1,theta2,bias2,theta3,bias3)\n",
    "        y_pred = torch.clamp(y_pred, 1e-8, 1)\n",
    "        loss = loss_calc(Y_train,y_pred,lamda[j],theta1,theta2,theta3)\n",
    "        #if (i%100==0):\n",
    "            #print(loss.item())\n",
    "        #train_loss_list.append(loss.item())\n",
    "        loss.backward()\n",
    "\n",
    "        with torch.no_grad():\n",
    "            theta1 -= step_size*theta1.grad\n",
    "            theta2 -= step_size*theta2.grad\n",
    "            theta3 -= step_size*theta3.grad\n",
    "            bias1 -= step_size*bias1.grad\n",
    "            bias2 -= step_size*bias2.grad\n",
    "            bias3 -= step_size*bias3.grad\n",
    "\n",
    "        theta1.grad.zero_()\n",
    "        theta2.grad.zero_()\n",
    "        theta3.grad.zero_()\n",
    "        bias1.grad.zero_()\n",
    "        bias2.grad.zero_()\n",
    "        bias3.grad.zero_()\n",
    "\n",
    "    train_loss_list.append(loss.item())\n",
    "    y_test_pred = forward_pass(X_test_scaled,theta1,bias1,theta2,bias2,theta3,bias3)\n",
    "    test_loss = loss_calc(Y_test,y_test_pred,lamda[j],theta1,theta2,theta3)\n",
    "    test_loss_list.append(test_loss.item())\n",
    "    print(j,\"   lamda: \",lamda[j],\"         Train loss:\",loss.item(),\"         Test loss:\",test_loss.item())\n",
    "    print(j,\"Train Accuracy:\", accuracy(Y_train, forward_pass(X_train_scaled.float(),theta1,bias1,theta2,bias2,theta3,bias3)))\n",
    "    print(j,\"Test Accuracy:\", accuracy(Y_test, forward_pass(X_test_scaled.float(),theta1,bias1,theta2,bias2,theta3,bias3)))\n",
    "    print()"
   ]
  },
  {
   "cell_type": "code",
   "execution_count": 76,
   "id": "010dae21-f5a1-4b7f-8a6c-930c801c3684",
   "metadata": {},
   "outputs": [],
   "source": [
    "#finding number of epoch (on which test_loss-> minimum & test_accuracy-> minimum)\n",
    "\n",
    "t_n = 100000\n",
    "t_theta1 = torch.randn(n_features,hidden_neurons_l1,requires_grad=True)\n",
    "t_theta2 = torch.randn(hidden_neurons_l1,hidden_neurons_l2,requires_grad=True)\n",
    "t_theta3 = torch.randn(hidden_neurons_l2,output_size,requires_grad=True)\n",
    "t_bias1 = torch.randn(hidden_neurons_l1,requires_grad=True)\n",
    "t_bias2 = torch.randn(hidden_neurons_l2,requires_grad=True)\n",
    "t_bias3 = torch.randn(output_size,requires_grad=True)\n",
    "t_lamda =1.8462\n",
    "loss_list =[]\n",
    "final_train_loss=0.0\n",
    "final_test_loss=0.0"
   ]
  },
  {
   "cell_type": "code",
   "execution_count": 77,
   "id": "ab4a25b3-acd9-45bf-a575-73a8edc06149",
   "metadata": {},
   "outputs": [
    {
     "name": "stdout",
     "output_type": "stream",
     "text": [
      "0    lamda:  1.3846          Train loss: 13.539505958557129          Test loss: 7.45213508605957\n",
      "0 Test Accuracy: 0.41499999165534973\n",
      "\n",
      "10000    lamda:  1.3846          Train loss: inf          Test loss: 11.413674354553223\n",
      "10000 Test Accuracy: 0.2750000059604645\n",
      "\n",
      "20000    lamda:  1.3846          Train loss: inf          Test loss: 11.425314903259277\n",
      "20000 Test Accuracy: 0.2849999964237213\n",
      "\n",
      "30000    lamda:  1.3846          Train loss: inf          Test loss: 11.417906761169434\n",
      "30000 Test Accuracy: 0.2849999964237213\n",
      "\n",
      "40000    lamda:  1.3846          Train loss: inf          Test loss: 11.48057746887207\n",
      "40000 Test Accuracy: 0.2849999964237213\n",
      "\n",
      "50000    lamda:  1.3846          Train loss: inf          Test loss: 11.468620300292969\n",
      "50000 Test Accuracy: 0.2849999964237213\n",
      "\n",
      "60000    lamda:  1.3846          Train loss: inf          Test loss: 11.454367637634277\n",
      "60000 Test Accuracy: 0.2849999964237213\n",
      "\n",
      "70000    lamda:  1.3846          Train loss: inf          Test loss: 11.438514709472656\n",
      "70000 Test Accuracy: 0.2849999964237213\n",
      "\n",
      "80000    lamda:  1.3846          Train loss: inf          Test loss: 11.422484397888184\n",
      "80000 Test Accuracy: 0.2849999964237213\n",
      "\n",
      "90000    lamda:  1.3846          Train loss: inf          Test loss: 11.409448623657227\n",
      "90000 Test Accuracy: 0.2800000011920929\n",
      "\n",
      "100000    lamda:  1.3846          Train loss: inf          Test loss: 11.408448219299316\n",
      "100000 Test Accuracy: 0.2800000011920929\n",
      "\n"
     ]
    }
   ],
   "source": [
    "#tunnung to find exact no of epoch\n",
    "\n",
    "for i in range(t_n+1):\n",
    "    y_pred = forward_pass(X_train_scaled,t_theta1,t_bias1,t_theta2,t_bias2,t_theta3,t_bias3)\n",
    "    loss = loss_calc(Y_train,y_pred,t_lamda)\n",
    "    if (i%10000==0):\n",
    "        train_loss_list.append(loss.item())\n",
    "        y_test_pred = forward_pass(X_train_scaled,t_theta1,t_bias1,t_theta2,t_bias2,t_theta3,t_bias3)\n",
    "        y_test_pred = torch.clamp(y_pred, 1e-8, 1)\n",
    "        final_test_loss = test_loss_calc(Y_test,y_test_pred)\n",
    "        print(i,\"   lamda: \",t_lamda,\"         Train loss:\",loss.item(),\"         Test loss:\",final_test_loss.item())\n",
    "        print(i,\"Test Accuracy:\", accuracy(Y_test, forward_pass(X_test_scaled,t_theta1,t_bias1,t_theta2,t_bias2,t_theta3,t_bias3)))\n",
    "        print()\n",
    "    loss_list.append(loss.item())\n",
    "    loss.backward()\n",
    "\n",
    "    with torch.no_grad():\n",
    "        t_theta1 -= step_size*theta1.grad\n",
    "        t_theta2 -= step_size*theta2.grad\n",
    "        t_theta3 -= step_size*theta3.grad\n",
    "        t_bias1 -= step_size*bias1.grad\n",
    "        t_bias2 -= step_size*bias2.grad\n",
    "        t_bias3 -= step_size*bias3.grad\n",
    "\n",
    "    t_theta1.grad.zero_()\n",
    "    t_theta2.grad.zero_()\n",
    "    t_theta3.grad.zero_()\n",
    "    t_bias1.grad.zero_()\n",
    "    t_bias2.grad.zero_()\n",
    "    t_bias3.grad.zero_()\n",
    "final_train_loss=loss.item()\n"
   ]
  },
  {
   "cell_type": "code",
   "execution_count": 33,
   "id": "84f2d318-1e3e-4964-8d1a-d6bcc1c9ae6b",
   "metadata": {},
   "outputs": [
    {
     "name": "stdout",
     "output_type": "stream",
     "text": [
      "13    lamda:  0.6923          Train loss: 0.0251957755535841          Test loss: 1.191048264503479\n"
     ]
    }
   ],
   "source": [
    "#Final testing\n",
    "\n",
    "train_loss_list.append(loss.item())\n",
    "y_test_pred = forward_pass(X_test_scaled,t_theta1,t_bias1,theta2,bias2)\n",
    "final_test_loss = test_loss_calc(Y_test,y_test_pred)\n",
    "print(j,\"   lamda: \",t_lamda,\"         Train loss:\",final_train_loss,\"         Test loss:\",final_test_loss.item())"
   ]
  },
  {
   "cell_type": "code",
   "execution_count": 78,
   "id": "b57ebc8b-c903-43af-8ef3-e10c52b05a6c",
   "metadata": {},
   "outputs": [
    {
     "data": {
      "image/png": "[encoded data removed]",
      "text/plain": [
       "<Figure size 640x480 with 1 Axes>"
      ]
     },
     "metadata": {},
     "output_type": "display_data"
    }
   ],
   "source": [
    "#plotting lamda vs test & traing loss to find the \"SWEET SPOT\"\n",
    "\n",
    "plt.plot(lamda,train_loss_list,'r+',label='Training loss line')\n",
    "plt.plot(lamda,test_loss_list,'g+',label='Testing loss line')\n",
    "plt.title('Loss Function Graph')\n",
    "plt.legend(loc='best')\n",
    "plt.grid(True,color='y')\n",
    "plt.xlabel('Lamda')\n",
    "#plt.xlim(0,5)\n",
    "#plt.ylim(-10000000,10000000)\n",
    "plt.ylabel('Loss')\n",
    "plt.title('LOSS FUNCTION GRAPH')\n",
    "plt.show()"
   ]
  },
  {
   "cell_type": "code",
   "execution_count": 23,
   "id": "a71cd091-2304-4c3c-be08-a256f2606e4a",
   "metadata": {},
   "outputs": [
    {
     "ename": "NameError",
     "evalue": "name 't_theta1' is not defined",
     "output_type": "error",
     "traceback": [
      "\u001b[31m---------------------------------------------------------------------------\u001b[39m",
      "\u001b[31mNameError\u001b[39m                                 Traceback (most recent call last)",
      "\u001b[36mCell\u001b[39m\u001b[36m \u001b[39m\u001b[32mIn[23]\u001b[39m\u001b[32m, line 6\u001b[39m\n\u001b[32m      3\u001b[39m     pred_labels = torch.argmax(y_pred, axis=\u001b[32m1\u001b[39m)\n\u001b[32m      4\u001b[39m     \u001b[38;5;28;01mreturn\u001b[39;00m (pred_labels == y_true).float().mean().item()\n\u001b[32m----> \u001b[39m\u001b[32m6\u001b[39m \u001b[38;5;28mprint\u001b[39m(\u001b[33m\"\u001b[39m\u001b[33mTrain Accuracy:\u001b[39m\u001b[33m\"\u001b[39m, accuracy(Y_train, forward_pass(X_train_scaled.float(),t_theta1,t_bias1,t_theta2,t_bias2)))\n\u001b[32m      7\u001b[39m \u001b[38;5;28mprint\u001b[39m(\u001b[33m\"\u001b[39m\u001b[33mTest Accuracy:\u001b[39m\u001b[33m\"\u001b[39m, accuracy(Y_test, forward_pass(X_test_scaled.float(),t_theta1,t_bias1,t_theta2,t_bias2)))\n",
      "\u001b[31mNameError\u001b[39m: name 't_theta1' is not defined"
     ]
    }
   ],
   "source": [
    "#ACCURACIES\n",
    "def accuracy(y_true, y_pred):\n",
    "    pred_labels = torch.argmax(y_pred, axis=1)\n",
    "    return (pred_labels == y_true).float().mean().item()\n",
    "\n",
    "print(\"Train Accuracy:\", accuracy(Y_train, forward_pass(X_train_scaled.float(),t_theta1,t_bias1,t_theta2,t_bias2)))\n",
    "print(\"Test Accuracy:\", accuracy(Y_test, forward_pass(X_test_scaled.float(),t_theta1,t_bias1,t_theta2,t_bias2)))"
   ]
  },
  {
   "cell_type": "code",
   "execution_count": null,
   "id": "ec7ab7b4-2835-4487-a5ee-9f4a9ef76f0f",
   "metadata": {},
   "outputs": [],
   "source": [
    "#things i did before neural networks in manual classification\n",
    "\n",
    "\n",
    "def gen_poly_functions(X,degree):\n",
    "    samples, features = X.shape\n",
    "    poly_equation = [torch.ones(samples,1)]\n",
    "\n",
    "    for deg in range(1,degree+1):\n",
    "\n",
    "        for comb in combinations_with_replacement(range(features),degree):\n",
    "\n",
    "            feature = torch.ones(samples)\n",
    "\n",
    "            for i in comb:\n",
    "                feature *= X[:,i]\n",
    "\n",
    "            poly_equation.append(feature.unsqueeze(1))\n",
    "\n",
    "    return torch.cat(poly_equation,dim=1)\n",
    "\n",
    "\n",
    "#FITTING DATA IN MODEL\n",
    "X_f = gen_poly_functions(X_train_scaled,degree)\n",
    "X_ft = gen_poly_functions(X_test_scaled,degree)\n",
    "print(X_f.shape)\n",
    "print(X_ft.shape)\n",
    "    "
   ]
  }
 ],
 "metadata": {
  "kernelspec": {
   "display_name": "Python 3 (ipykernel)",
   "language": "python",
   "name": "python3"
  },
  "language_info": {
   "codemirror_mode": {
    "name": "ipython",
    "version": 3
   },
   "file_extension": ".py",
   "mimetype": "text/x-python",
   "name": "python",
   "nbconvert_exporter": "python",
   "pygments_lexer": "ipython3",
   "version": "3.13.4"
  }
 },
 "nbformat": 4,
 "nbformat_minor": 5
}
